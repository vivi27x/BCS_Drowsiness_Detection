{
 "cells": [
  {
   "cell_type": "code",
   "execution_count": 16,
   "metadata": {},
   "outputs": [],
   "source": [
    "#importing all the necessary libraries\n",
    "import numpy as np\n",
    "import pandas as pd\n",
    "import matplotlib.pyplot as plt"
   ]
  },
  {
   "cell_type": "code",
   "execution_count": 17,
   "metadata": {},
   "outputs": [],
   "source": [
    "#making a dataframe using the csv file\n",
    "df = pd.read_csv('Iris.csv')"
   ]
  },
  {
   "cell_type": "code",
   "execution_count": 29,
   "metadata": {},
   "outputs": [
    {
     "name": "stdout",
     "output_type": "stream",
     "text": [
      "0         Iris-setosa\n",
      "1         Iris-setosa\n",
      "2         Iris-setosa\n",
      "3         Iris-setosa\n",
      "4         Iris-setosa\n",
      "            ...      \n",
      "145    Iris-virginica\n",
      "146    Iris-virginica\n",
      "147    Iris-virginica\n",
      "148    Iris-virginica\n",
      "149    Iris-virginica\n",
      "Name: Species, Length: 150, dtype: object\n"
     ]
    }
   ],
   "source": [
    "y = df['Species']\n",
    "x= df[['SepalLengthCm','SepalWidthCm','PetalLengthCm','PetalWidthCm']]"
   ]
  },
  {
   "cell_type": "code",
   "execution_count": 19,
   "metadata": {},
   "outputs": [
    {
     "name": "stderr",
     "output_type": "stream",
     "text": [
      "C:\\Users\\realv\\AppData\\Local\\Temp\\ipykernel_29904\\3900732847.py:1: SettingWithCopyWarning: \n",
      "A value is trying to be set on a copy of a slice from a DataFrame\n",
      "\n",
      "See the caveats in the documentation: https://pandas.pydata.org/pandas-docs/stable/user_guide/indexing.html#returning-a-view-versus-a-copy\n",
      "  x.drop(y.index[(y == 'Iris-setosa')], axis=0,inplace=True)\n"
     ]
    }
   ],
   "source": [
    "#since we need to classify only iris versicolor and virginica, we drop iris setosa rows.\n",
    "x.drop(y.index[(y == 'Iris-setosa')], axis=0,inplace=True)"
   ]
  },
  {
   "cell_type": "code",
   "execution_count": 20,
   "metadata": {},
   "outputs": [],
   "source": [
    "y.drop(y.index[(y == 'Iris-setosa')], axis=0,inplace=True)\n"
   ]
  },
  {
   "cell_type": "code",
   "execution_count": 21,
   "metadata": {},
   "outputs": [
    {
     "data": {
      "text/plain": [
       "50     Iris-versicolor\n",
       "51     Iris-versicolor\n",
       "52     Iris-versicolor\n",
       "53     Iris-versicolor\n",
       "54     Iris-versicolor\n",
       "            ...       \n",
       "145     Iris-virginica\n",
       "146     Iris-virginica\n",
       "147     Iris-virginica\n",
       "148     Iris-virginica\n",
       "149     Iris-virginica\n",
       "Name: Species, Length: 100, dtype: object"
      ]
     },
     "execution_count": 21,
     "metadata": {},
     "output_type": "execute_result"
    }
   ],
   "source": [
    "y"
   ]
  },
  {
   "cell_type": "code",
   "execution_count": 22,
   "metadata": {},
   "outputs": [],
   "source": [
    "#to all the entries of iris versicolor we index them as 0 and virginica to 1, this will help us classifying\n",
    "index_0=y.index[(y== 'Iris-versicolor')]\n",
    "index_1=y.index[(y == 'Iris-virginica')]\n",
    "y[index_0]=0\n",
    "y[index_1]=1"
   ]
  },
  {
   "cell_type": "code",
   "execution_count": 23,
   "metadata": {},
   "outputs": [],
   "source": [
    "#defining a sigmoid function\n",
    "def sigmoid(y):\n",
    "    y_=(1 + np.exp(-y))\n",
    "    return 1/y_"
   ]
  },
  {
   "cell_type": "code",
   "execution_count": 24,
   "metadata": {},
   "outputs": [],
   "source": [
    "y = y.to_numpy()"
   ]
  },
  {
   "cell_type": "code",
   "execution_count": 25,
   "metadata": {},
   "outputs": [],
   "source": [
    "#converting dataframe to numpy array\n",
    "x1=x['SepalLengthCm'].to_numpy()\n",
    "x2=x['SepalWidthCm'].to_numpy()\n",
    "x3=x['PetalLengthCm'].to_numpy()\n",
    "x4=x['PetalWidthCm'].to_numpy()\n",
    "\n"
   ]
  },
  {
   "cell_type": "code",
   "execution_count": 26,
   "metadata": {},
   "outputs": [
    {
     "data": {
      "text/plain": [
       "(100,)"
      ]
     },
     "execution_count": 26,
     "metadata": {},
     "output_type": "execute_result"
    }
   ],
   "source": [
    "y.shape"
   ]
  },
  {
   "cell_type": "code",
   "execution_count": 27,
   "metadata": {},
   "outputs": [
    {
     "data": {
      "text/plain": [
       "[<matplotlib.lines.Line2D at 0x26a7a3d0d10>]"
      ]
     },
     "execution_count": 27,
     "metadata": {},
     "output_type": "execute_result"
    },
    {
     "data": {
      "image/png": "[encoded data removed]",
      "text/plain": [
       "<Figure size 640x480 with 1 Axes>"
      ]
     },
     "metadata": {},
     "output_type": "display_data"
    }
   ],
   "source": [
    "iter = 60           #no. of iterations\n",
    "l=0.001             #learning rate\n",
    "Loss=[]\n",
    "Accuracy=[]\n",
    "w1,w2,w3,w4,b=0,0,0,0,0            #weights and bias\n",
    "\n",
    "#applying logistic regression\n",
    "for i in range(iter):\n",
    "    Correct=0                       #counts the true positives andd true negative predictions\n",
    "    yp = w1*x1 + w2*x2 + w3*x3 + w4*x4 + b         \n",
    "    yp=yp.astype(np.double)\n",
    "    ypp=sigmoid(yp)\n",
    "    predicted_y=np.ones((100,))\n",
    "    for i in range(100):\n",
    "        if ypp[i]>=0.75:\n",
    "            predicted_y[i]=1\n",
    "        else:\n",
    "            predicted_y[i]=0\n",
    "        if y[i]==predicted_y[i]:\n",
    "            Correct = Correct+1\n",
    "    Accuracy.append(Correct)\n",
    "\n",
    "    #finding the binary cross entropy loss   \n",
    "    loss = -(np.sum(y*np.log(ypp) + (1-y)*np.log(1-ypp)))/100\n",
    "    Loss.append(loss)\n",
    "    grad_w1 = (ypp-y)*x1\n",
    "    grad_w2 = (ypp-y)*x2\n",
    "    grad_w3 =  (ypp-y)*x3\n",
    "    grad_w4 = (ypp-y)*x4\n",
    "    grad_b = (ypp-y)\n",
    "\n",
    "    w1,w2,w3,w4,b = w1-l*grad_w1,w2-l*grad_w2,w3-l*grad_w3,w4-l*grad_w4,b-l*grad_b      #updating weights and biases\n",
    "\n",
    "\n",
    "\n",
    "\n",
    "plt.plot(range(1,iter+1),Loss)\n",
    "\n"
   ]
  },
  {
   "cell_type": "code",
   "execution_count": 28,
   "metadata": {},
   "outputs": [
    {
     "data": {
      "text/plain": [
       "<matplotlib.collections.PathCollection at 0x26a7a460bd0>"
      ]
     },
     "execution_count": 28,
     "metadata": {},
     "output_type": "execute_result"
    },
    {
     "data": {
      "image/png": "[encoded data removed]",
      "text/plain": [
       "<Figure size 640x480 with 1 Axes>"
      ]
     },
     "metadata": {},
     "output_type": "display_data"
    }
   ],
   "source": [
    "\n",
    "plt.scatter(range(1,iter+1),Accuracy)"
   ]
  },
  {
   "cell_type": "code",
   "execution_count": null,
   "metadata": {},
   "outputs": [],
   "source": []
  }
 ],
 "metadata": {
  "kernelspec": {
   "display_name": "Python 3",
   "language": "python",
   "name": "python3"
  },
  "language_info": {
   "codemirror_mode": {
    "name": "ipython",
    "version": 3
   },
   "file_extension": ".py",
   "mimetype": "text/x-python",
   "name": "python",
   "nbconvert_exporter": "python",
   "pygments_lexer": "ipython3",
   "version": "3.11.5"
  }
 },
 "nbformat": 4,
 "nbformat_minor": 2
}
